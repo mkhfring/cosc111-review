{
 "cells": [
  {
   "cell_type": "markdown",
   "id": "b23699be-b305-4b91-b106-7c0275a1952d",
   "metadata": {},
   "source": []
  },
  {
   "cell_type": "code",
   "execution_count": null,
   "id": "f094e01d-1837-4f34-ad30-2985fef69f58",
   "metadata": {},
   "outputs": [],
   "source": []
  },
  {
   "cell_type": "code",
   "execution_count": null,
   "id": "e53a199e-de33-42f6-8b01-9aca4aabf042",
   "metadata": {},
   "outputs": [],
   "source": []
  },
  {
   "cell_type": "markdown",
   "id": "b1b851a5-a9b2-43d5-8f67-49b17951a113",
   "metadata": {},
   "source": [
    "<img title=\"a title\" alt=\"Alt text\" src=\"review2/p1.png\">"
   ]
  },
  {
   "cell_type": "code",
   "execution_count": null,
   "id": "13de2020-b9e8-4b93-8b75-ec6f3d7914ab",
   "metadata": {},
   "outputs": [],
   "source": []
  },
  {
   "cell_type": "markdown",
   "id": "73fd405b-c0fe-4765-94f8-cb07e3244470",
   "metadata": {},
   "source": [
    "<img title=\"a title\" alt=\"Alt text\" src=\"lecture14Images/p.gif\">"
   ]
  },
  {
   "cell_type": "code",
   "execution_count": null,
   "id": "9afddbd0-afe8-411f-888c-26a499ec060f",
   "metadata": {},
   "outputs": [],
   "source": []
  },
  {
   "cell_type": "code",
   "execution_count": null,
   "id": "b513a890-b205-487b-b430-cd75f0aaa35e",
   "metadata": {},
   "outputs": [],
   "source": []
  },
  {
   "cell_type": "markdown",
   "id": "61ad0bb6-63dd-47d6-a851-8703d703f40d",
   "metadata": {},
   "source": [
    "<img title=\"a title\" alt=\"Alt text\" src=\"review2/p2.png\">"
   ]
  },
  {
   "cell_type": "code",
   "execution_count": null,
   "id": "0d950613-5db9-43fa-adc2-34f47d6b1d3d",
   "metadata": {},
   "outputs": [],
   "source": [
    "//Counter controlled loops\n",
    " \n",
    "//Sentinel controlled loops"
   ]
  },
  {
   "cell_type": "code",
   "execution_count": null,
   "id": "399d9d07-4b73-45dc-b871-ab922846ac0a",
   "metadata": {},
   "outputs": [],
   "source": []
  },
  {
   "cell_type": "code",
   "execution_count": null,
   "id": "bca88107-d0cd-4605-b5ab-b6857b132ef3",
   "metadata": {},
   "outputs": [],
   "source": [
    "\n"
   ]
  },
  {
   "cell_type": "code",
   "execution_count": null,
   "id": "59eca6e6-abf9-4de4-895c-86265a0d07e2",
   "metadata": {},
   "outputs": [],
   "source": []
  },
  {
   "cell_type": "code",
   "execution_count": null,
   "id": "8e2a72c0-5085-463b-b16f-cd221ea54285",
   "metadata": {},
   "outputs": [],
   "source": []
  },
  {
   "cell_type": "code",
   "execution_count": 51,
   "id": "24599553-ac61-4fa7-95c5-bba3eef802db",
   "metadata": {},
   "outputs": [
    {
     "name": "stdout",
     "output_type": "stream",
     "text": [
      "0 Inside the loop \n",
      "1 Inside the loop \n",
      "2 Inside the loop \n",
      "3 Inside the loop \n",
      "4 Inside the loop \n",
      "5 "
     ]
    }
   ],
   "source": [
    "//While loop\n",
    "// int counter=0;\n",
    "// while(counter < 5){\n",
    "//     System.out.println(counter);\n",
    "//     counter++;\n",
    "// }\n",
    "int j;\n",
    "for(j=0; j< 5; j++){\n",
    "    System.out.println(j +\" Inside the loop\" + \" \");\n",
    "};{\n",
    "    System.out.print(j + \" \");\n",
    "}\n"
   ]
  },
  {
   "cell_type": "code",
   "execution_count": null,
   "id": "4f8a64b6-3fe3-44b3-9d5e-73a10619c747",
   "metadata": {},
   "outputs": [],
   "source": []
  },
  {
   "cell_type": "code",
   "execution_count": null,
   "id": "8593629a-0112-43bb-b501-68f2732b1a0b",
   "metadata": {},
   "outputs": [],
   "source": []
  },
  {
   "cell_type": "code",
   "execution_count": null,
   "id": "0fc6fefa-9f1f-4bf8-966d-9731103de702",
   "metadata": {},
   "outputs": [],
   "source": []
  },
  {
   "cell_type": "code",
   "execution_count": 44,
   "id": "b25b3e4e-5009-41ae-a42b-6949eb413e22",
   "metadata": {},
   "outputs": [
    {
     "name": "stdout",
     "output_type": "stream",
     "text": [
      "TAIL TAIL TAIL TAIL "
     ]
    }
   ],
   "source": [
    "while(Math.random() < 0.8){\n",
    "    System.out.print(\"TAIL \");\n",
    "}"
   ]
  },
  {
   "cell_type": "code",
   "execution_count": 18,
   "id": "6660ca1e-afae-4be7-b740-cc7199d52282",
   "metadata": {},
   "outputs": [
    {
     "name": "stdout",
     "output_type": "stream",
     "text": [
      "0 1 2 3 4 "
     ]
    }
   ],
   "source": [
    "//for loops\n",
    "\n",
    "for(int i =0; i< 5; i++){\n",
    "    System.out.print(i + \" \");\n",
    "}"
   ]
  },
  {
   "cell_type": "code",
   "execution_count": 55,
   "id": "8bb906a0-86cf-457f-a813-cf65cc61edf5",
   "metadata": {},
   "outputs": [
    {
     "name": "stdout",
     "output_type": "stream",
     "text": [
      "insert a value\n"
     ]
    },
    {
     "name": "stdin",
     "output_type": "stream",
     "text": [
      " -1\n"
     ]
    },
    {
     "name": "stdout",
     "output_type": "stream",
     "text": [
      "Wrong value\n"
     ]
    },
    {
     "name": "stdin",
     "output_type": "stream",
     "text": [
      " 1\n"
     ]
    },
    {
     "name": "stdout",
     "output_type": "stream",
     "text": [
      "Done!\n"
     ]
    }
   ],
   "source": [
    "import java.util.Scanner;\n",
    "Scanner input = new Scanner(System.in);\n",
    "System.out.println(\"insert a value\");\n",
    "int val = input.nextInt();\n",
    "\n",
    "do{}\n",
    "while(val < 0){\n",
    "    System.out.println(\"Wrong value\");\n",
    "    val = input.nextInt(); //Don't declare the val again\n",
    "    //Explain why we cannot declare val\n",
    "}\n",
    "System.out.println(\"Done!\");"
   ]
  },
  {
   "cell_type": "code",
   "execution_count": null,
   "id": "511fcd29-8599-4f62-ab55-da7841363f3b",
   "metadata": {},
   "outputs": [],
   "source": []
  },
  {
   "cell_type": "code",
   "execution_count": null,
   "id": "ee9de528-1662-4884-84c0-1e86860d9d60",
   "metadata": {},
   "outputs": [],
   "source": []
  },
  {
   "cell_type": "code",
   "execution_count": null,
   "id": "47660638-43b7-41ce-a21e-c712c4239b96",
   "metadata": {},
   "outputs": [],
   "source": []
  },
  {
   "cell_type": "code",
   "execution_count": null,
   "id": "089b3a7e-6df9-4dab-b6f0-335676c1895f",
   "metadata": {},
   "outputs": [],
   "source": []
  },
  {
   "cell_type": "code",
   "execution_count": 56,
   "id": "d29e510b-3c93-43e3-a382-96509b674faf",
   "metadata": {},
   "outputs": [
    {
     "name": "stdout",
     "output_type": "stream",
     "text": [
      "insert a value\n",
      "Wrong value\n"
     ]
    },
    {
     "name": "stdin",
     "output_type": "stream",
     "text": [
      " -1\n"
     ]
    },
    {
     "name": "stdout",
     "output_type": "stream",
     "text": [
      "Wrong value\n"
     ]
    },
    {
     "name": "stdin",
     "output_type": "stream",
     "text": [
      " 1\n"
     ]
    },
    {
     "name": "stdout",
     "output_type": "stream",
     "text": [
      "Done!\n"
     ]
    }
   ],
   "source": [
    "import java.util.Scanner;\n",
    "Scanner input = new Scanner(System.in);\n",
    "System.out.println(\"insert a value\");\n",
    "// We don't have to do the following: int val = input.nextInt();\n",
    "int val;\n",
    "do{\n",
    "    System.out.println(\"Wrong value\");\n",
    "    val = input.nextInt();\n",
    "}\n",
    "while(val < 0);//Semicolon is important here\n",
    "System.out.println(\"Done!\");"
   ]
  },
  {
   "cell_type": "code",
   "execution_count": null,
   "id": "1c002ab1-4276-4338-9c58-50f7855c57b3",
   "metadata": {},
   "outputs": [],
   "source": []
  },
  {
   "cell_type": "code",
   "execution_count": null,
   "id": "93ce4a1b-b735-490b-abe2-ad34f17c2e7b",
   "metadata": {},
   "outputs": [],
   "source": [
    "//Never run this loop\n",
    "while(Math.random() < 0.8);{//Infinit loop\n",
    "    System.out.print(\"TAIL \");\n",
    "}"
   ]
  },
  {
   "cell_type": "code",
   "execution_count": null,
   "id": "c2ba0f3e-3544-43d6-ac95-89b6188ef87a",
   "metadata": {},
   "outputs": [],
   "source": []
  },
  {
   "cell_type": "code",
   "execution_count": 5,
   "id": "de7431ed-3fb4-4f1d-a033-d586ee151273",
   "metadata": {},
   "outputs": [
    {
     "name": "stdout",
     "output_type": "stream",
     "text": [
      "5 "
     ]
    }
   ],
   "source": [
    "int i = 0;\n",
    "for(i =0; i< 5; i++);{\n",
    "    System.out.print(i + \" \");\n",
    "}\n"
   ]
  },
  {
   "cell_type": "code",
   "execution_count": null,
   "id": "baf04294-06b7-4d30-8166-96e93a9197cb",
   "metadata": {},
   "outputs": [],
   "source": []
  },
  {
   "cell_type": "code",
   "execution_count": null,
   "id": "12004482-32d1-482f-b885-fbce00c86ccb",
   "metadata": {},
   "outputs": [],
   "source": []
  },
  {
   "cell_type": "code",
   "execution_count": null,
   "id": "2eddbbad-37fc-4e23-a1be-0322818fa747",
   "metadata": {},
   "outputs": [],
   "source": []
  },
  {
   "cell_type": "code",
   "execution_count": 58,
   "id": "145029c9-aee0-44b4-8487-69929f5095af",
   "metadata": {},
   "outputs": [
    {
     "name": "stdout",
     "output_type": "stream",
     "text": [
      "1 2 3 "
     ]
    }
   ],
   "source": [
    "//for-each loop\n",
    "int[] a= {1, 2, 3};\n",
    "for(int item: a){\n",
    "    System.out.print(item + \" \");\n",
    "}\n",
    "\n",
    "// for(int item:a){\n",
    "//     System.out.print(item + \" \");\n",
    "// }"
   ]
  },
  {
   "cell_type": "code",
   "execution_count": null,
   "id": "be41fd04-a427-4a5c-ae8b-5264614c3a60",
   "metadata": {},
   "outputs": [],
   "source": []
  },
  {
   "cell_type": "code",
   "execution_count": 59,
   "id": "db7d7f04-ee1e-44a2-b609-9e06eca0389b",
   "metadata": {},
   "outputs": [
    {
     "name": "stdout",
     "output_type": "stream",
     "text": [
      "[1, 2, 3]\n"
     ]
    }
   ],
   "source": [
    "import java.util.Arrays;\n",
    "int[] a= {1, 2, 3};\n",
    "for(int item:a){\n",
    "    item++;\n",
    "}\n",
    "System.out.println(Arrays.toString(a));\n"
   ]
  },
  {
   "cell_type": "code",
   "execution_count": 60,
   "id": "1e16c31a-5b12-419d-a98b-c747338a5b00",
   "metadata": {},
   "outputs": [
    {
     "name": "stdout",
     "output_type": "stream",
     "text": [
      "[2, 3, 4]\n"
     ]
    }
   ],
   "source": [
    "import java.util.Arrays;\n",
    "int[] a= {1, 2, 3};\n",
    "for(int i=0; i<a.length; i++){\n",
    "    a[i]++;\n",
    "}\n",
    "System.out.println(Arrays.toString(a));"
   ]
  },
  {
   "cell_type": "code",
   "execution_count": 68,
   "id": "3674ad02-51f1-43e0-bf7b-b92884771320",
   "metadata": {},
   "outputs": [
    {
     "name": "stdout",
     "output_type": "stream",
     "text": [
      "0\n",
      "1\n",
      "2\n"
     ]
    }
   ],
   "source": [
    "for(int j=0; j<5; j++){\n",
    "    if( j ==3){\n",
    "        break;\n",
    "    }\n",
    "    System.out.println(j);\n",
    "}\n",
    "// System.out.println(j); // it is an error. Why?"
   ]
  },
  {
   "cell_type": "code",
   "execution_count": null,
   "id": "fc811485-80b1-4320-9b14-15aae6eddab4",
   "metadata": {},
   "outputs": [],
   "source": []
  },
  {
   "cell_type": "code",
   "execution_count": 71,
   "id": "9f2b9b65-ee56-4fce-858a-c1c72236103f",
   "metadata": {},
   "outputs": [
    {
     "name": "stdout",
     "output_type": "stream",
     "text": [
      "0\n",
      "1\n",
      "2\n",
      "3\n",
      "4\n"
     ]
    }
   ],
   "source": [
    "int i =0;\n",
    "while(i<5){\n",
    "    if(i==3){\n",
    "        continue;\n",
    "    }\n",
    "    System.out.println(i);\n",
    "    i++;\n",
    "}"
   ]
  },
  {
   "cell_type": "code",
   "execution_count": null,
   "id": "551423bc-328f-40d2-b235-306cf56d4ade",
   "metadata": {},
   "outputs": [],
   "source": []
  },
  {
   "cell_type": "code",
   "execution_count": null,
   "id": "ca69f664-1059-4379-b0cf-6b9a59432aeb",
   "metadata": {},
   "outputs": [],
   "source": []
  },
  {
   "cell_type": "code",
   "execution_count": 69,
   "id": "7d01e25e-d09d-48a8-808f-4fd9c19f0365",
   "metadata": {},
   "outputs": [
    {
     "name": "stdout",
     "output_type": "stream",
     "text": [
      "0\n",
      "1\n",
      "2\n",
      "4\n"
     ]
    }
   ],
   "source": [
    "for(int j=0; j<5; j++){\n",
    "    if( j ==3){\n",
    "        continue; \n",
    "    }\n",
    "    System.out.println(j);\n",
    "}\n",
    "//"
   ]
  },
  {
   "cell_type": "code",
   "execution_count": 76,
   "id": "4ab942e4-8290-4978-81ae-f9e8be5367ca",
   "metadata": {},
   "outputs": [],
   "source": [
    "//Write a method to compute non alphabet chars in an String\n",
    "\n",
    "\n",
    "// public static int countAlpha(String s){\n",
    "//     int count = 0;\n",
    "//     for(int i=0; i<s.length(); i++){\n",
    "//         if(Charater.isLetter(s.charAt(i))){\n",
    "//             count++;\n",
    "//         }\n",
    "//     }\n",
    "//     return count;\n",
    "\n",
    "// }    \n",
    "\n",
    "\n",
    "public static int countAlpha(String s){\n",
    "    int count = 0;\n",
    "    for(int i=0; i<s.length(); i++){\n",
    "        if(Character.isDigit(s.charAt(i))){\n",
    "            count++;\n",
    "        }\n",
    "    \n",
    "    }\n",
    "    return count;\n",
    "}"
   ]
  },
  {
   "cell_type": "code",
   "execution_count": 77,
   "id": "25e8233d-5d0e-4bbf-a0f7-6c01db6ebb18",
   "metadata": {},
   "outputs": [
    {
     "data": {
      "text/plain": [
       "14"
      ]
     },
     "execution_count": 77,
     "metadata": {},
     "output_type": "execute_result"
    }
   ],
   "source": [
    "countAlpha(\"H453465367i23434\");"
   ]
  },
  {
   "cell_type": "code",
   "execution_count": null,
   "id": "8c57fcf8-1602-45be-9173-6a0df2c17f03",
   "metadata": {},
   "outputs": [],
   "source": [
    "//Discuss primitives and references"
   ]
  },
  {
   "cell_type": "code",
   "execution_count": 84,
   "id": "a5d73fd1-672c-4463-a345-a1632377f7f8",
   "metadata": {},
   "outputs": [
    {
     "name": "stdout",
     "output_type": "stream",
     "text": [
      "After the method 12\n"
     ]
    }
   ],
   "source": [
    "int[] k = {1, 2, 3};\n",
    "int c = 12; \n",
    "public static void manipulateInput(int[] b){\n",
    "    b[0] = 12;\n",
    "}\n",
    "\n",
    "public static int manipulateInput(int b){\n",
    "    return 12;\n",
    "}\n",
    "\n",
    "//Calling the method\n",
    "manipulateInput(k);\n",
    "manipulateInput(c);\n",
    "System.out.println(\"After the method \" + k[0])"
   ]
  },
  {
   "cell_type": "code",
   "execution_count": null,
   "id": "c8f59ece-0211-451e-9700-f3bc6a6fad91",
   "metadata": {},
   "outputs": [],
   "source": []
  },
  {
   "cell_type": "code",
   "execution_count": null,
   "id": "04262d98-ba03-43e0-8a4e-7a2f8e330613",
   "metadata": {},
   "outputs": [],
   "source": [
    "//Method overloading"
   ]
  },
  {
   "cell_type": "code",
   "execution_count": null,
   "id": "db6c2917-0ab8-4207-8f28-90fb7d7e9d4c",
   "metadata": {},
   "outputs": [],
   "source": []
  },
  {
   "cell_type": "code",
   "execution_count": 85,
   "id": "da55332a-921d-486e-8852-246f43231d9e",
   "metadata": {},
   "outputs": [],
   "source": [
    "public static int analyseArrays(int[] a){\n",
    "    int mul = 1;\n",
    "    for(int item: a){\n",
    "        mul *=item;\n",
    "    }\n",
    "    return mul;\n",
    "}\n",
    "\n",
    "public static int analyseArrays(int[][] a){\n",
    "    int total = 0;\n",
    "    for(int i=0; i< a.length; i++){\n",
    "        for(int j=0; j< a[i].length; j++){\n",
    "            total+=a[i][j];\n",
    "        }\n",
    "    }\n",
    "    \n",
    "    return total;\n",
    "}"
   ]
  },
  {
   "cell_type": "code",
   "execution_count": 89,
   "id": "221f92cd-45e7-4b33-8f2a-e8f7904579c9",
   "metadata": {},
   "outputs": [
    {
     "data": {
      "text/plain": [
       "8"
      ]
     },
     "execution_count": 89,
     "metadata": {},
     "output_type": "execute_result"
    }
   ],
   "source": [
    "int[][] arr = {{1, 1}, {1, 1}};\n",
    "analyseArrays(arr);"
   ]
  },
  {
   "cell_type": "code",
   "execution_count": null,
   "id": "9824341b-a3e7-4a49-9d98-7878f7127249",
   "metadata": {},
   "outputs": [],
   "source": []
  },
  {
   "cell_type": "code",
   "execution_count": null,
   "id": "b4af0cb4-c6d2-434b-8402-21add432a793",
   "metadata": {},
   "outputs": [],
   "source": [
    "// Arrays methods (binary search)"
   ]
  },
  {
   "cell_type": "code",
   "execution_count": 94,
   "id": "f1fb577b-449b-4ceb-a2c4-06bd7fd8f407",
   "metadata": {},
   "outputs": [
    {
     "name": "stdout",
     "output_type": "stream",
     "text": [
      "[1, 3, 5, 6]\n"
     ]
    },
    {
     "data": {
      "text/plain": [
       "2"
      ]
     },
     "execution_count": 94,
     "metadata": {},
     "output_type": "execute_result"
    }
   ],
   "source": [
    "import java.util.Arrays;\n",
    "int[] a = {1, 5, 3, 6};\n",
    "Arrays.sort(a);\n",
    "System.out.println(Arrays.toString(a));\n",
    "Arrays.binarySearch(a, 5);"
   ]
  },
  {
   "cell_type": "code",
   "execution_count": null,
   "id": "0be0a098-ca53-4e65-9c16-4b98b623a5c8",
   "metadata": {},
   "outputs": [],
   "source": []
  },
  {
   "cell_type": "code",
   "execution_count": null,
   "id": "98775d8b-337f-4727-b69f-e3e3b38cc1a2",
   "metadata": {},
   "outputs": [],
   "source": []
  },
  {
   "cell_type": "code",
   "execution_count": null,
   "id": "87053b3e-87a4-4b45-b3ff-aab239e2c7f2",
   "metadata": {},
   "outputs": [],
   "source": []
  },
  {
   "cell_type": "code",
   "execution_count": null,
   "id": "29c8ae92-de22-4b44-b43e-4cef3536c6f4",
   "metadata": {},
   "outputs": [],
   "source": [
    "//Never run this loop\n",
    "int i = 0;\n",
    "while(i < 5){\n",
    "    System.out.println(i);\n",
    "    if(i==3){\n",
    "        continue;\n",
    "    }\n",
    "    i++;\n",
    "}"
   ]
  },
  {
   "cell_type": "code",
   "execution_count": null,
   "id": "803f9066-c7de-41dd-bbbf-353eabb294cf",
   "metadata": {},
   "outputs": [],
   "source": [
    "//Write a method to reverse an String"
   ]
  },
  {
   "cell_type": "code",
   "execution_count": null,
   "id": "425530d5-d9d5-4a8c-b9e4-222d6c3b10e5",
   "metadata": {},
   "outputs": [],
   "source": []
  },
  {
   "cell_type": "code",
   "execution_count": null,
   "id": "ed7ca960-45f3-484e-aaaf-c5a3bc8d9f2e",
   "metadata": {},
   "outputs": [],
   "source": [
    "//Write a code to display followngs:\n",
    "\n",
    "// 1\n",
    "// 1 2\n",
    "// 1 2 3\n"
   ]
  },
  {
   "cell_type": "code",
   "execution_count": 110,
   "id": "18d47c25-ead7-477c-9b8e-75dc8605f9c4",
   "metadata": {},
   "outputs": [],
   "source": [
    "public static void displayints(int n){\n",
    "    for(int j = 1; j<=n; j++){\n",
    "        for(int i =1; i<= j; i++){\n",
    "            System.out.print(i + \" \");\n",
    "        }\n",
    "    System.out.println();\n",
    "    }\n",
    "}"
   ]
  },
  {
   "cell_type": "code",
   "execution_count": 111,
   "id": "c2b8b062-f24b-4b94-a89f-f929b657a68a",
   "metadata": {},
   "outputs": [
    {
     "name": "stdout",
     "output_type": "stream",
     "text": [
      "1 \n",
      "1 2 \n",
      "1 2 3 \n",
      "1 2 3 4 \n",
      "1 2 3 4 5 \n"
     ]
    }
   ],
   "source": [
    "displayints(5);"
   ]
  },
  {
   "cell_type": "code",
   "execution_count": 38,
   "id": "12fc889b-006b-4d97-b3a3-8f67b713efcf",
   "metadata": {},
   "outputs": [],
   "source": []
  },
  {
   "cell_type": "code",
   "execution_count": 119,
   "id": "486f175d-5f23-44b9-82f1-877e29b73625",
   "metadata": {},
   "outputs": [],
   "source": [
    "//indexofmin and min\n",
    "\n",
    "public static int[] minAndIndex(int[]a){\n",
    "    int min = a[0];\n",
    "    int indexofMin = 0;\n",
    "    for(int i=0; i<a.length; i++){\n",
    "        if (a[i] < min){\n",
    "            min = a[i];\n",
    "            indexofMin = i;\n",
    "        }\n",
    "    }\n",
    "    return new int[]{min, indexofMin};\n",
    "}"
   ]
  },
  {
   "cell_type": "code",
   "execution_count": 123,
   "id": "95e6061f-797c-4742-ad0a-e75aef7c63d5",
   "metadata": {},
   "outputs": [
    {
     "name": "stdout",
     "output_type": "stream",
     "text": [
      "The min is1\n"
     ]
    }
   ],
   "source": [
    "int[] b = {10, 2, 6, 8};\n",
    "System.out.println(\"The min is\" + minAndIndex(b)[1]);"
   ]
  },
  {
   "cell_type": "code",
   "execution_count": 122,
   "id": "d2031071-4ead-4aa2-8fe1-b8a4e1dbb12d",
   "metadata": {},
   "outputs": [
    {
     "data": {
      "text/plain": [
       "java.io.PrintStream@18448eb7"
      ]
     },
     "execution_count": 122,
     "metadata": {},
     "output_type": "execute_result"
    }
   ],
   "source": [
    "System.out"
   ]
  },
  {
   "cell_type": "code",
   "execution_count": null,
   "id": "5165ca5f-2233-4c01-8bc3-c028c7d442bc",
   "metadata": {},
   "outputs": [],
   "source": []
  }
 ],
 "metadata": {
  "kernelspec": {
   "display_name": "Java",
   "language": "java",
   "name": "java"
  },
  "language_info": {
   "codemirror_mode": "java",
   "file_extension": ".jshell",
   "mimetype": "text/x-java-source",
   "name": "Java",
   "pygments_lexer": "java",
   "version": "21+35-LTS-2513"
  }
 },
 "nbformat": 4,
 "nbformat_minor": 5
}
